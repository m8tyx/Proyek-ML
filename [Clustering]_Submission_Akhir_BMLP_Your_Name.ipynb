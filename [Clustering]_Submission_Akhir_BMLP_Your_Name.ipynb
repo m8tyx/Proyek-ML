{
  "cells": [
    {
      "cell_type": "markdown",
      "metadata": {
        "id": "0tvAKGat01Sd"
      },
      "source": [
        "# **Penting**\n",
        "- Jangan mengubah atau menambahkan cell text yang sudah disediakan, Anda hanya perlu mengerjakan cell code yang sudah disediakan.\n",
        "- Pastikan seluruh kriteria memiliki output yang sesuai, karena jika tidak ada output dianggap tidak selesai.\n",
        "- Misal, Anda menggunakan df = df.dropna() silakan gunakan df.isnull().sum() sebagai tanda sudah berhasil. Silakan sesuaikan seluruh output dengan perintah yang sudah disediakan.\n",
        "- Pastikan Anda melakukan Run All sebelum mengirimkan submission untuk memastikan seluruh cell berjalan dengan baik.\n",
        "- Pastikan Anda menggunakan variabel df dari awal sampai akhir dan tidak diperbolehkan mengganti nama variabel tersebut.\n",
        "- Hapus simbol pagar (#) pada kode yang bertipe komentar jika Anda menerapkan kriteria tambahan\n",
        "- Biarkan simbol pagar (#) jika Anda tidak menerapkan kriteria tambahan\n",
        "- Pastikan Anda mengerjakan sesuai section yang sudah diberikan tanpa mengubah judul atau header yang disediakan."
      ]
    },
    {
      "cell_type": "markdown",
      "metadata": {
        "id": "sKi5D9qVVJvY"
      },
      "source": [
        "# **INFORMASI DATASET**\n",
        "\n",
        "Dataset ini menyajikan gambaran mendalam mengenai perilaku transaksi dan pola aktivitas keuangan, sehingga sangat ideal untuk eksplorasi **deteksi penipuan (fraud detection)** dan **identifikasi anomali**. Dataset ini mencakup **2.512 sampel data transaksi**, yang mencakup berbagai atribut transaksi, demografi nasabah, dan pola penggunaan.\n",
        "\n",
        "Setiap entri memberikan wawasan komprehensif terhadap perilaku transaksi, memungkinkan analisis untuk **keamanan finansial** dan pengembangan model prediktif.\n",
        "\n",
        "## Fitur Utama\n",
        "\n",
        "- **`TransactionID`**: Pengidentifikasi unik alfanumerik untuk setiap transaksi.  \n",
        "- **`AccountID`**: ID unik untuk setiap akun, dapat memiliki banyak transaksi.  \n",
        "- **`TransactionAmount`**: Nilai transaksi dalam mata uang, mulai dari pengeluaran kecil hingga pembelian besar.  \n",
        "- **`TransactionDate`**: Tanggal dan waktu transaksi terjadi.  \n",
        "- **`TransactionType`**: Tipe transaksi berupa `'Credit'` atau `'Debit'`.  \n",
        "- **`Location`**: Lokasi geografis transaksi (nama kota di Amerika Serikat).  \n",
        "- **`DeviceID`**: ID perangkat yang digunakan dalam transaksi.  \n",
        "- **`IP Address`**: Alamat IPv4 yang digunakan saat transaksi, dapat berubah untuk beberapa akun.  \n",
        "- **`MerchantID`**: ID unik merchant, menunjukkan merchant utama dan anomali transaksi.  \n",
        "- **`AccountBalance`**: Saldo akun setelah transaksi berlangsung.  \n",
        "- **`PreviousTransactionDate`**: Tanggal transaksi terakhir pada akun, berguna untuk menghitung frekuensi transaksi.  \n",
        "- **`Channel`**: Kanal transaksi seperti `Online`, `ATM`, atau `Branch`.  \n",
        "- **`CustomerAge`**: Usia pemilik akun.  \n",
        "- **`CustomerOccupation`**: Profesi pengguna seperti `Dokter`, `Insinyur`, `Mahasiswa`, atau `Pensiunan`.  \n",
        "- **`TransactionDuration`**: Lama waktu transaksi (dalam detik).  \n",
        "- **`LoginAttempts`**: Jumlah upaya login sebelum transaksi—jumlah tinggi bisa mengindikasikan anomali.\n",
        "\n",
        "Tugas kamu adalah membuat model clustering yang selanjutnya akan digunakan untuk membuat model klasifikasi.\n"
      ]
    },
    {
      "cell_type": "markdown",
      "metadata": {
        "id": "fKADPWcFKlj3"
      },
      "source": [
        "# **1. Import Library**\n",
        "Pada tahap ini, Anda perlu mengimpor beberapa pustaka (library) Python yang dibutuhkan untuk analisis data dan pembangunan model machine learning. Semua library yang dibutuhkan harus **import** di **cell** ini, jika ada library yang dijalankan di cell lain maka **submission langsung ditolak**"
      ]
    },
    {
      "cell_type": "code",
      "execution_count": 88,
      "metadata": {
        "id": "BlmvjLY9M4Yj"
      },
      "outputs": [],
      "source": [
        "import pandas as pd  \n",
        "import matplotlib.pyplot as plt  \n",
        "import seaborn as sns\n",
        "from sklearn.cluster import KMeans, DBSCAN  \n",
        "from sklearn.metrics import silhouette_score \n",
        "from yellowbrick.cluster import KElbowVisualizer \n",
        "from sklearn.preprocessing import LabelEncoder\n",
        "from sklearn.preprocessing import StandardScaler"
      ]
    },
    {
      "cell_type": "markdown",
      "metadata": {
        "id": "f3YIEnAFKrKL"
      },
      "source": [
        "# **2. Memuat Dataset**\n",
        "Pada tahap ini, Anda perlu memuat dataset ke dalam notebook lalu mengecek informasi dataset sebelum nantinya dilakukan pembersihan. Hal-hal yang perlu dilakukan pada tahapan ini yaitu:\n",
        "1. **Memahami Struktur Data**\n",
        "   - Dataset harus mengambil referensi wajib digunakan (bisa dilihat [Disini](https://drive.google.com/drive/folders/1Zs7VmPZ-jNwsRlMKH65Ea-LApSwx6lKx?usp=drive_link))\n",
        "   - Melakukan loading dataset ke dalam notebook dan menampilkan 5 baris pertama dengan function `head`.\n",
        "   - Tinjau jumlah baris kolom dan jenis data dalam dataset dengan function `info`.  \n",
        "   - Menampilkan statistik deskriptif dataset dengan menjalankan `describe`.\n",
        "   - Pastikan **setiap function tersebut** memiliki **output pada setiap cell** code. Jika tidak **submission langsung ditolak**\n",
        "   "
      ]
    },
    {
      "cell_type": "markdown",
      "metadata": {
        "id": "JgKXTwx2LMQA"
      },
      "source": [
        "Gunakan code ini untuk melakukan load data secara otomatis tanpa harus download data tersebut secara manual:\n",
        "```python\n",
        "url='https://docs.google.com/spreadsheets/d/e/2PACX-1vTbg5WVW6W3c8SPNUGc3A3AL-AG32TPEQGpdzARfNICMsLFI0LQj0jporhsLCeVhkN5AoRsTkn08AYl/pub?gid=2020477971&single=true&output=csv'\n",
        "df = pd.read_csv(url)\n",
        "```"
      ]
    },
    {
      "cell_type": "markdown",
      "metadata": {
        "id": "9d2RyUOuefWa"
      },
      "source": [
        "Penting: pada kriteria pertama hindari penggunaan print() dan display() karena seluruh fungsi yang digunakan sudah memiliki standar output dan menghasilkan output yang diharapkan.\n",
        "\n",
        "Kriteria 1 akan ditolak ketika:\n",
        "- print(__.head())\n",
        "- display(___.head())\n",
        "dst\n",
        "\n",
        "Kriteria 1 akan diterima ketika Anda menggunakan fungsi yang diminta tanpa menambahkan deskripsi apapun."
      ]
    },
    {
      "cell_type": "code",
      "execution_count": 89,
      "metadata": {
        "id": "-tfuxA86YztE"
      },
      "outputs": [],
      "source": [
        "# Load data\n",
        "url='https://docs.google.com/spreadsheets/d/e/2PACX-1vTbg5WVW6W3c8SPNUGc3A3AL-AG32TPEQGpdzARfNICMsLFI0LQj0jporhsLCeVhkN5AoRsTkn08AYl/pub?gid=2020477971&single=true&output=csv'\n",
        "df = pd.read_csv(url)"
      ]
    },
    {
      "cell_type": "code",
      "execution_count": 90,
      "metadata": {
        "id": "GHCGNTyrM5fS"
      },
      "outputs": [
        {
          "name": "stdout",
          "output_type": "stream",
          "text": [
            "  TransactionID AccountID  TransactionAmount PreviousTransactionDate  \\\n",
            "0      TX000001   AC00128              14.09     2023-04-11 16:29:14   \n",
            "1      TX000002   AC00455             376.24     2023-06-27 16:44:19   \n",
            "2      TX000003   AC00019             126.29     2023-07-10 18:16:08   \n",
            "3      TX000004   AC00070             184.50     2023-05-05 16:32:11   \n",
            "4      TX000005   AC00411              13.45     2023-10-16 17:51:24   \n",
            "\n",
            "  TransactionType   Location DeviceID      IP Address MerchantID Channel  \\\n",
            "0           Debit  San Diego  D000380  162.198.218.92       M015     ATM   \n",
            "1           Debit    Houston  D000051     13.149.61.4       M052     ATM   \n",
            "2           Debit       Mesa  D000235  215.97.143.157       M009  Online   \n",
            "3           Debit    Raleigh  D000187  200.13.225.150       M002  Online   \n",
            "4          Credit    Atlanta  D000308    65.164.3.100       M091  Online   \n",
            "\n",
            "   CustomerAge CustomerOccupation  TransactionDuration  LoginAttempts  \\\n",
            "0         70.0             Doctor                 81.0            1.0   \n",
            "1         68.0             Doctor                141.0            1.0   \n",
            "2         19.0            Student                 56.0            1.0   \n",
            "3         26.0            Student                 25.0            1.0   \n",
            "4          NaN            Student                198.0            1.0   \n",
            "\n",
            "   AccountBalance     TransactionDate  \n",
            "0         5112.21  2024-11-04 8:08:08  \n",
            "1        13758.91  2024-11-04 8:09:35  \n",
            "2         1122.35  2024-11-04 8:07:04  \n",
            "3         8569.06  2024-11-04 8:09:06  \n",
            "4         7429.40  2024-11-04 8:06:39  \n"
          ]
        },
        {
          "data": {
            "text/html": [
              "<div>\n",
              "<style scoped>\n",
              "    .dataframe tbody tr th:only-of-type {\n",
              "        vertical-align: middle;\n",
              "    }\n",
              "\n",
              "    .dataframe tbody tr th {\n",
              "        vertical-align: top;\n",
              "    }\n",
              "\n",
              "    .dataframe thead th {\n",
              "        text-align: right;\n",
              "    }\n",
              "</style>\n",
              "<table border=\"1\" class=\"dataframe\">\n",
              "  <thead>\n",
              "    <tr style=\"text-align: right;\">\n",
              "      <th></th>\n",
              "      <th>TransactionID</th>\n",
              "      <th>AccountID</th>\n",
              "      <th>TransactionAmount</th>\n",
              "      <th>PreviousTransactionDate</th>\n",
              "      <th>TransactionType</th>\n",
              "      <th>Location</th>\n",
              "      <th>DeviceID</th>\n",
              "      <th>IP Address</th>\n",
              "      <th>MerchantID</th>\n",
              "      <th>Channel</th>\n",
              "      <th>CustomerAge</th>\n",
              "      <th>CustomerOccupation</th>\n",
              "      <th>TransactionDuration</th>\n",
              "      <th>LoginAttempts</th>\n",
              "      <th>AccountBalance</th>\n",
              "      <th>TransactionDate</th>\n",
              "    </tr>\n",
              "  </thead>\n",
              "  <tbody>\n",
              "    <tr>\n",
              "      <th>0</th>\n",
              "      <td>TX000001</td>\n",
              "      <td>AC00128</td>\n",
              "      <td>14.09</td>\n",
              "      <td>2023-04-11 16:29:14</td>\n",
              "      <td>Debit</td>\n",
              "      <td>San Diego</td>\n",
              "      <td>D000380</td>\n",
              "      <td>162.198.218.92</td>\n",
              "      <td>M015</td>\n",
              "      <td>ATM</td>\n",
              "      <td>70.0</td>\n",
              "      <td>Doctor</td>\n",
              "      <td>81.0</td>\n",
              "      <td>1.0</td>\n",
              "      <td>5112.21</td>\n",
              "      <td>2024-11-04 8:08:08</td>\n",
              "    </tr>\n",
              "    <tr>\n",
              "      <th>1</th>\n",
              "      <td>TX000002</td>\n",
              "      <td>AC00455</td>\n",
              "      <td>376.24</td>\n",
              "      <td>2023-06-27 16:44:19</td>\n",
              "      <td>Debit</td>\n",
              "      <td>Houston</td>\n",
              "      <td>D000051</td>\n",
              "      <td>13.149.61.4</td>\n",
              "      <td>M052</td>\n",
              "      <td>ATM</td>\n",
              "      <td>68.0</td>\n",
              "      <td>Doctor</td>\n",
              "      <td>141.0</td>\n",
              "      <td>1.0</td>\n",
              "      <td>13758.91</td>\n",
              "      <td>2024-11-04 8:09:35</td>\n",
              "    </tr>\n",
              "    <tr>\n",
              "      <th>2</th>\n",
              "      <td>TX000003</td>\n",
              "      <td>AC00019</td>\n",
              "      <td>126.29</td>\n",
              "      <td>2023-07-10 18:16:08</td>\n",
              "      <td>Debit</td>\n",
              "      <td>Mesa</td>\n",
              "      <td>D000235</td>\n",
              "      <td>215.97.143.157</td>\n",
              "      <td>M009</td>\n",
              "      <td>Online</td>\n",
              "      <td>19.0</td>\n",
              "      <td>Student</td>\n",
              "      <td>56.0</td>\n",
              "      <td>1.0</td>\n",
              "      <td>1122.35</td>\n",
              "      <td>2024-11-04 8:07:04</td>\n",
              "    </tr>\n",
              "    <tr>\n",
              "      <th>3</th>\n",
              "      <td>TX000004</td>\n",
              "      <td>AC00070</td>\n",
              "      <td>184.50</td>\n",
              "      <td>2023-05-05 16:32:11</td>\n",
              "      <td>Debit</td>\n",
              "      <td>Raleigh</td>\n",
              "      <td>D000187</td>\n",
              "      <td>200.13.225.150</td>\n",
              "      <td>M002</td>\n",
              "      <td>Online</td>\n",
              "      <td>26.0</td>\n",
              "      <td>Student</td>\n",
              "      <td>25.0</td>\n",
              "      <td>1.0</td>\n",
              "      <td>8569.06</td>\n",
              "      <td>2024-11-04 8:09:06</td>\n",
              "    </tr>\n",
              "    <tr>\n",
              "      <th>4</th>\n",
              "      <td>TX000005</td>\n",
              "      <td>AC00411</td>\n",
              "      <td>13.45</td>\n",
              "      <td>2023-10-16 17:51:24</td>\n",
              "      <td>Credit</td>\n",
              "      <td>Atlanta</td>\n",
              "      <td>D000308</td>\n",
              "      <td>65.164.3.100</td>\n",
              "      <td>M091</td>\n",
              "      <td>Online</td>\n",
              "      <td>NaN</td>\n",
              "      <td>Student</td>\n",
              "      <td>198.0</td>\n",
              "      <td>1.0</td>\n",
              "      <td>7429.40</td>\n",
              "      <td>2024-11-04 8:06:39</td>\n",
              "    </tr>\n",
              "  </tbody>\n",
              "</table>\n",
              "</div>"
            ],
            "text/plain": [
              "  TransactionID AccountID  TransactionAmount PreviousTransactionDate  \\\n",
              "0      TX000001   AC00128              14.09     2023-04-11 16:29:14   \n",
              "1      TX000002   AC00455             376.24     2023-06-27 16:44:19   \n",
              "2      TX000003   AC00019             126.29     2023-07-10 18:16:08   \n",
              "3      TX000004   AC00070             184.50     2023-05-05 16:32:11   \n",
              "4      TX000005   AC00411              13.45     2023-10-16 17:51:24   \n",
              "\n",
              "  TransactionType   Location DeviceID      IP Address MerchantID Channel  \\\n",
              "0           Debit  San Diego  D000380  162.198.218.92       M015     ATM   \n",
              "1           Debit    Houston  D000051     13.149.61.4       M052     ATM   \n",
              "2           Debit       Mesa  D000235  215.97.143.157       M009  Online   \n",
              "3           Debit    Raleigh  D000187  200.13.225.150       M002  Online   \n",
              "4          Credit    Atlanta  D000308    65.164.3.100       M091  Online   \n",
              "\n",
              "   CustomerAge CustomerOccupation  TransactionDuration  LoginAttempts  \\\n",
              "0         70.0             Doctor                 81.0            1.0   \n",
              "1         68.0             Doctor                141.0            1.0   \n",
              "2         19.0            Student                 56.0            1.0   \n",
              "3         26.0            Student                 25.0            1.0   \n",
              "4          NaN            Student                198.0            1.0   \n",
              "\n",
              "   AccountBalance     TransactionDate  \n",
              "0         5112.21  2024-11-04 8:08:08  \n",
              "1        13758.91  2024-11-04 8:09:35  \n",
              "2         1122.35  2024-11-04 8:07:04  \n",
              "3         8569.06  2024-11-04 8:09:06  \n",
              "4         7429.40  2024-11-04 8:06:39  "
            ]
          },
          "metadata": {},
          "output_type": "display_data"
        }
      ],
      "source": [
        "# Tampilkan 5 baris pertama dengan function head.\n",
        "print(df.head())\n",
        "display(df.head())"
      ]
    },
    {
      "cell_type": "code",
      "execution_count": 91,
      "metadata": {
        "id": "0MgRVyMLnR5h"
      },
      "outputs": [
        {
          "name": "stdout",
          "output_type": "stream",
          "text": [
            "<class 'pandas.core.frame.DataFrame'>\n",
            "RangeIndex: 2537 entries, 0 to 2536\n",
            "Data columns (total 16 columns):\n",
            " #   Column                   Non-Null Count  Dtype  \n",
            "---  ------                   --------------  -----  \n",
            " 0   TransactionID            2508 non-null   object \n",
            " 1   AccountID                2516 non-null   object \n",
            " 2   TransactionAmount        2511 non-null   float64\n",
            " 3   PreviousTransactionDate  2509 non-null   object \n",
            " 4   TransactionType          2507 non-null   object \n",
            " 5   Location                 2507 non-null   object \n",
            " 6   DeviceID                 2507 non-null   object \n",
            " 7   IP Address               2517 non-null   object \n",
            " 8   MerchantID               2514 non-null   object \n",
            " 9   Channel                  2510 non-null   object \n",
            " 10  CustomerAge              2519 non-null   float64\n",
            " 11  CustomerOccupation       2514 non-null   object \n",
            " 12  TransactionDuration      2511 non-null   float64\n",
            " 13  LoginAttempts            2516 non-null   float64\n",
            " 14  AccountBalance           2510 non-null   float64\n",
            " 15  TransactionDate          2513 non-null   object \n",
            "dtypes: float64(5), object(11)\n",
            "memory usage: 317.2+ KB\n"
          ]
        }
      ],
      "source": [
        "# Tinjau jumlah baris kolom dan jenis data dalam dataset dengan info.\n",
        "df.info()"
      ]
    },
    {
      "cell_type": "code",
      "execution_count": 92,
      "metadata": {
        "id": "hN9KsJPonVKT"
      },
      "outputs": [
        {
          "data": {
            "text/html": [
              "<div>\n",
              "<style scoped>\n",
              "    .dataframe tbody tr th:only-of-type {\n",
              "        vertical-align: middle;\n",
              "    }\n",
              "\n",
              "    .dataframe tbody tr th {\n",
              "        vertical-align: top;\n",
              "    }\n",
              "\n",
              "    .dataframe thead th {\n",
              "        text-align: right;\n",
              "    }\n",
              "</style>\n",
              "<table border=\"1\" class=\"dataframe\">\n",
              "  <thead>\n",
              "    <tr style=\"text-align: right;\">\n",
              "      <th></th>\n",
              "      <th>TransactionAmount</th>\n",
              "      <th>CustomerAge</th>\n",
              "      <th>TransactionDuration</th>\n",
              "      <th>LoginAttempts</th>\n",
              "      <th>AccountBalance</th>\n",
              "    </tr>\n",
              "  </thead>\n",
              "  <tbody>\n",
              "    <tr>\n",
              "      <th>count</th>\n",
              "      <td>2511.000000</td>\n",
              "      <td>2519.000000</td>\n",
              "      <td>2511.000000</td>\n",
              "      <td>2516.000000</td>\n",
              "      <td>2510.000000</td>\n",
              "    </tr>\n",
              "    <tr>\n",
              "      <th>mean</th>\n",
              "      <td>297.656468</td>\n",
              "      <td>44.678444</td>\n",
              "      <td>119.422939</td>\n",
              "      <td>1.121622</td>\n",
              "      <td>5113.438124</td>\n",
              "    </tr>\n",
              "    <tr>\n",
              "      <th>std</th>\n",
              "      <td>292.230367</td>\n",
              "      <td>17.837359</td>\n",
              "      <td>70.078513</td>\n",
              "      <td>0.594469</td>\n",
              "      <td>3897.975861</td>\n",
              "    </tr>\n",
              "    <tr>\n",
              "      <th>min</th>\n",
              "      <td>0.260000</td>\n",
              "      <td>18.000000</td>\n",
              "      <td>10.000000</td>\n",
              "      <td>1.000000</td>\n",
              "      <td>101.250000</td>\n",
              "    </tr>\n",
              "    <tr>\n",
              "      <th>25%</th>\n",
              "      <td>81.310000</td>\n",
              "      <td>27.000000</td>\n",
              "      <td>63.000000</td>\n",
              "      <td>1.000000</td>\n",
              "      <td>1504.727500</td>\n",
              "    </tr>\n",
              "    <tr>\n",
              "      <th>50%</th>\n",
              "      <td>211.360000</td>\n",
              "      <td>45.000000</td>\n",
              "      <td>112.000000</td>\n",
              "      <td>1.000000</td>\n",
              "      <td>4734.110000</td>\n",
              "    </tr>\n",
              "    <tr>\n",
              "      <th>75%</th>\n",
              "      <td>413.105000</td>\n",
              "      <td>59.000000</td>\n",
              "      <td>161.000000</td>\n",
              "      <td>1.000000</td>\n",
              "      <td>7672.687500</td>\n",
              "    </tr>\n",
              "    <tr>\n",
              "      <th>max</th>\n",
              "      <td>1919.110000</td>\n",
              "      <td>80.000000</td>\n",
              "      <td>300.000000</td>\n",
              "      <td>5.000000</td>\n",
              "      <td>14977.990000</td>\n",
              "    </tr>\n",
              "  </tbody>\n",
              "</table>\n",
              "</div>"
            ],
            "text/plain": [
              "       TransactionAmount  CustomerAge  TransactionDuration  LoginAttempts  \\\n",
              "count        2511.000000  2519.000000          2511.000000    2516.000000   \n",
              "mean          297.656468    44.678444           119.422939       1.121622   \n",
              "std           292.230367    17.837359            70.078513       0.594469   \n",
              "min             0.260000    18.000000            10.000000       1.000000   \n",
              "25%            81.310000    27.000000            63.000000       1.000000   \n",
              "50%           211.360000    45.000000           112.000000       1.000000   \n",
              "75%           413.105000    59.000000           161.000000       1.000000   \n",
              "max          1919.110000    80.000000           300.000000       5.000000   \n",
              "\n",
              "       AccountBalance  \n",
              "count     2510.000000  \n",
              "mean      5113.438124  \n",
              "std       3897.975861  \n",
              "min        101.250000  \n",
              "25%       1504.727500  \n",
              "50%       4734.110000  \n",
              "75%       7672.687500  \n",
              "max      14977.990000  "
            ]
          },
          "execution_count": 92,
          "metadata": {},
          "output_type": "execute_result"
        }
      ],
      "source": [
        "# Menampilkan statistik deskriptif dataset dengan menjalankan describe\n",
        "df.describe()"
      ]
    },
    {
      "cell_type": "markdown",
      "metadata": {
        "id": "DNOEZk24uiXu"
      },
      "source": [
        "(Opsional) Memuat Dataset dan Melakukan Exploratory Data Analysis (EDA) [Skilled]\n",
        "\n",
        "**Biarkan kosong jika tidak menerapkan kriteria skilled**\n",
        "\n",
        "**Apabila ingin menerapkan Advanced, pastikan seluruh visualisasi tidak ada yang overlap**"
      ]
    },
    {
      "cell_type": "code",
      "execution_count": 93,
      "metadata": {
        "id": "DGAJlKExnYAt"
      },
      "outputs": [
        {
          "data": {
            "image/png": "[encoded data removed]",
            "text/plain": [
              "<Figure size 1000x800 with 2 Axes>"
            ]
          },
          "metadata": {},
          "output_type": "display_data"
        }
      ],
      "source": [
        "# Menampilkan korelasi antar fitur (Opsional Skilled 1)\n",
        "# Drop kolom ID karena tidak relevan untuk korelasi\n",
        "df_corr = df.drop(columns=[\n",
        "    'TransactionID', 'AccountID', 'DeviceID', 'MerchantID', 'IP Address'\n",
        "])\n",
        "# Ambil hanya kolom numerik\n",
        "df_numeric = df_corr.select_dtypes(include=['float64', 'int64'])\n",
        "\n",
        "# Hitung korelasi\n",
        "correlation_matrix = df_numeric.corr()\n",
        "\n",
        "# Plot heatmap\n",
        "plt.figure(figsize=(10, 8))\n",
        "sns.heatmap(correlation_matrix, annot=True, cmap='coolwarm', fmt=\".2f\", square=True)\n",
        "plt.title(\"Correlation Matrix of Numeric Features (Tanpa Kolom ID)\")\n",
        "plt.tight_layout()\n",
        "plt.show()"
      ]
    },
    {
      "cell_type": "code",
      "execution_count": 94,
      "metadata": {
        "id": "kcBn9v4Fn8FO"
      },
      "outputs": [
        {
          "data": {
            "image/png": "[encoded data removed]",
            "text/plain": [
              "<Figure size 1500x1000 with 6 Axes>"
            ]
          },
          "metadata": {},
          "output_type": "display_data"
        }
      ],
      "source": [
        "# Menampilkan histogram untuk semua kolom numerik (Opsional Skilled 1)\n",
        "df_numeric.hist(\n",
        "    figsize=(15, 10),\n",
        "    bins=30,\n",
        "    edgecolor='black',\n",
        "    grid=False\n",
        ")\n",
        "\n",
        "plt.suptitle(\"Histogram Semua Fitur Numerik\", fontsize=16)\n",
        "plt.tight_layout()\n",
        "plt.subplots_adjust(top=0.93)  # memberi ruang untuk judul\n",
        "plt.show()"
      ]
    },
    {
      "cell_type": "markdown",
      "metadata": {
        "id": "k-S35baFuwaP"
      },
      "source": [
        "(Opsional) Memuat Dataset dan Melakukan Exploratory Data Analysis (EDA) [Advanced]\n",
        "\n",
        "**Biarkan kosong jika tidak menerapkan kriteria advanced**"
      ]
    },
    {
      "cell_type": "code",
      "execution_count": 95,
      "metadata": {
        "id": "GVIuT8VDokKn"
      },
      "outputs": [
        {
          "data": {
            "image/png": "[encoded data removed]",
            "text/plain": [
              "<Figure size 800x800 with 1 Axes>"
            ]
          },
          "metadata": {},
          "output_type": "display_data"
        },
        {
          "name": "stderr",
          "output_type": "stream",
          "text": [
            "C:\\Users\\andre\\AppData\\Local\\Temp\\ipykernel_20036\\1702872943.py:26: SettingWithCopyWarning: \n",
            "A value is trying to be set on a copy of a slice from a DataFrame.\n",
            "Try using .loc[row_indexer,col_indexer] = value instead\n",
            "\n",
            "See the caveats in the documentation: https://pandas.pydata.org/pandas-docs/stable/user_guide/indexing.html#returning-a-view-versus-a-copy\n",
            "  df_credit['AmountCategory'] = pd.cut(df_credit['TransactionAmount'], bins=bins, labels=labels, right=False)\n",
            "C:\\Users\\andre\\AppData\\Local\\Temp\\ipykernel_20036\\1702872943.py:29: FutureWarning: The default of observed=False is deprecated and will be changed to True in a future version of pandas. Pass observed=False to retain current behavior or observed=True to adopt the future default and silence this warning.\n",
            "  channel_group = df_credit.groupby(['AmountCategory', 'Channel']).size().reset_index(name='Count')\n"
          ]
        },
        {
          "data": {
            "image/png": "[encoded data removed]",
            "text/plain": [
              "<Figure size 1000x600 with 1 Axes>"
            ]
          },
          "metadata": {},
          "output_type": "display_data"
        },
        {
          "name": "stderr",
          "output_type": "stream",
          "text": [
            "C:\\Users\\andre\\AppData\\Local\\Temp\\ipykernel_20036\\1702872943.py:47: SettingWithCopyWarning: \n",
            "A value is trying to be set on a copy of a slice from a DataFrame.\n",
            "Try using .loc[row_indexer,col_indexer] = value instead\n",
            "\n",
            "See the caveats in the documentation: https://pandas.pydata.org/pandas-docs/stable/user_guide/indexing.html#returning-a-view-versus-a-copy\n",
            "  df_debit['AmountCategory'] = pd.cut(df_debit['TransactionAmount'], bins=bins, labels=labels, right=False)\n",
            "C:\\Users\\andre\\AppData\\Local\\Temp\\ipykernel_20036\\1702872943.py:50: FutureWarning: The default of observed=False is deprecated and will be changed to True in a future version of pandas. Pass observed=False to retain current behavior or observed=True to adopt the future default and silence this warning.\n",
            "  channel_group = df_debit.groupby(['AmountCategory', 'Channel']).size().reset_index(name='Count')\n"
          ]
        },
        {
          "data": {
            "image/png": "[encoded data removed]",
            "text/plain": [
              "<Figure size 1000x600 with 1 Axes>"
            ]
          },
          "metadata": {},
          "output_type": "display_data"
        }
      ],
      "source": [
        "# Visualisasi yang lebih informatif (Opsional Advanced 1)\n",
        "\n",
        "# Hitung jumlah transaksi berdasarkan channel yang digunakan\n",
        "transaction_channeltype_counts = df['Channel'].value_counts()\n",
        "# Buat pie chart\n",
        "plt.figure(figsize=(8, 8))\n",
        "plt.pie(\n",
        "    transaction_channeltype_counts,\n",
        "    labels=transaction_channeltype_counts.index,\n",
        "    autopct='%1.1f%%',\n",
        "    startangle=140,\n",
        "    colors=sns.color_palette('pastel')\n",
        ")\n",
        "\n",
        "plt.title('Distribusi Metode Transaksi', fontsize=14)\n",
        "plt.axis('equal')  # Biar pie-nya bulat\n",
        "plt.tight_layout()\n",
        "plt.show()\n",
        "\n",
        "# 1. Filter hanya transaksi Credit\n",
        "df_credit = df[df['TransactionType'].str.lower() == 'credit']\n",
        "\n",
        "# 2. Buat kategori berdasarkan jumlah transaksi\n",
        "bins = [0, 100, 500, float('inf')]\n",
        "labels = ['0-100', '100-500', '500+']\n",
        "df_credit['AmountCategory'] = pd.cut(df_credit['TransactionAmount'], bins=bins, labels=labels, right=False)\n",
        "\n",
        "# 3. Hitung jumlah transaksi berdasarkan Channel dan AmountCategory\n",
        "channel_group = df_credit.groupby(['AmountCategory', 'Channel']).size().reset_index(name='Count')\n",
        "\n",
        "# 4. Plot barplot (horizontal per kategori)\n",
        "plt.figure(figsize=(10, 6))\n",
        "sns.barplot(data=channel_group, x='Count', y='AmountCategory', hue='Channel')\n",
        "plt.title('Distribusi Channel untuk Transaksi Credit Berdasarkan Kategori Jumlah')\n",
        "plt.xlabel('Jumlah Transaksi')\n",
        "plt.ylabel('Kategori Jumlah (USD)')\n",
        "plt.legend(title='Channel')\n",
        "plt.tight_layout()\n",
        "plt.show()\n",
        "\n",
        "# 1. Filter hanya transaksi Credit\n",
        "df_debit = df[df['TransactionType'].str.lower() == 'debit']\n",
        "\n",
        "# 2. Buat kategori berdasarkan jumlah transaksi\n",
        "bins = [0, 100, 500, float('inf')]\n",
        "labels = ['0-100', '100-500', '500+']\n",
        "df_debit['AmountCategory'] = pd.cut(df_debit['TransactionAmount'], bins=bins, labels=labels, right=False)\n",
        "\n",
        "# 3. Hitung jumlah transaksi berdasarkan Channel dan AmountCategory\n",
        "channel_group = df_debit.groupby(['AmountCategory', 'Channel']).size().reset_index(name='Count')\n",
        "\n",
        "# 4. Plot barplot (horizontal per kategori)\n",
        "plt.figure(figsize=(10, 6))\n",
        "sns.barplot(data=channel_group, x='Count', y='AmountCategory', hue='Channel')\n",
        "plt.title('Distribusi Channel untuk Transaksi Debit Berdasarkan Kategori Jumlah')\n",
        "plt.xlabel('Jumlah Transaksi')\n",
        "plt.ylabel('Kategori Jumlah (USD)')\n",
        "plt.legend(title='Channel')\n",
        "plt.tight_layout()\n",
        "plt.show()"
      ]
    },
    {
      "cell_type": "markdown",
      "metadata": {
        "id": "cSemyzQHU0On"
      },
      "source": [
        "# **3. Pembersihan dan Pra Pemrosesan Data**\n",
        "\n",
        "Pada tahap ini, Anda akan melakukan **Pembersihan Dataset** untuk menjadikan dataset mudah diintepretasi dan bisa dilatih. Hal-hal yang wajib kamu lakukan yaitu:\n",
        "\n",
        "1. **Mengecek dataset** menggunakan isnull().sum() dan duplicated().sum().\n",
        "2. Melakukan feature scaling menggunakan `MinMaxScaler()` atau `StandardScalar()` untuk fitur numerik.\n",
        "3. Melakukan feature encoding menggunakan `LabelEncoder()` untuk fitur kategorikal.\n",
        "4. Melakukan drop pada kolom id.\n",
        "5. **Ketentuan Cell Code**\n",
        "   - Pastikan **setiap pemeriksaan tersebut** memiliki **output pada cell-nya**. Jika tidak **submission langsung ditolak**\n"
      ]
    },
    {
      "cell_type": "code",
      "execution_count": 96,
      "metadata": {
        "id": "dKeejtvxM6X1"
      },
      "outputs": [
        {
          "name": "stdout",
          "output_type": "stream",
          "text": [
            "TransactionID              29\n",
            "AccountID                  21\n",
            "TransactionAmount          26\n",
            "PreviousTransactionDate    28\n",
            "TransactionType            30\n",
            "Location                   30\n",
            "DeviceID                   30\n",
            "IP Address                 20\n",
            "MerchantID                 23\n",
            "Channel                    27\n",
            "CustomerAge                18\n",
            "CustomerOccupation         23\n",
            "TransactionDuration        26\n",
            "LoginAttempts              21\n",
            "AccountBalance             27\n",
            "TransactionDate            24\n",
            "dtype: int64\n"
          ]
        }
      ],
      "source": [
        "# Mengecek dataset menggunakan isnull().sum()\n",
        "missing_values = df.isnull().sum()\n",
        "print(missing_values[missing_values > 0])\n",
        "#Cek Missing Value "
      ]
    },
    {
      "cell_type": "code",
      "execution_count": 97,
      "metadata": {
        "id": "2RrBA92mpHBc"
      },
      "outputs": [
        {
          "name": "stdout",
          "output_type": "stream",
          "text": [
            "Jumlah baris duplikat: 21\n"
          ]
        },
        {
          "data": {
            "text/html": [
              "<div>\n",
              "<style scoped>\n",
              "    .dataframe tbody tr th:only-of-type {\n",
              "        vertical-align: middle;\n",
              "    }\n",
              "\n",
              "    .dataframe tbody tr th {\n",
              "        vertical-align: top;\n",
              "    }\n",
              "\n",
              "    .dataframe thead th {\n",
              "        text-align: right;\n",
              "    }\n",
              "</style>\n",
              "<table border=\"1\" class=\"dataframe\">\n",
              "  <thead>\n",
              "    <tr style=\"text-align: right;\">\n",
              "      <th></th>\n",
              "      <th>TransactionID</th>\n",
              "      <th>AccountID</th>\n",
              "      <th>TransactionAmount</th>\n",
              "      <th>PreviousTransactionDate</th>\n",
              "      <th>TransactionType</th>\n",
              "      <th>Location</th>\n",
              "      <th>DeviceID</th>\n",
              "      <th>IP Address</th>\n",
              "      <th>MerchantID</th>\n",
              "      <th>Channel</th>\n",
              "      <th>CustomerAge</th>\n",
              "      <th>CustomerOccupation</th>\n",
              "      <th>TransactionDuration</th>\n",
              "      <th>LoginAttempts</th>\n",
              "      <th>AccountBalance</th>\n",
              "      <th>TransactionDate</th>\n",
              "    </tr>\n",
              "  </thead>\n",
              "  <tbody>\n",
              "    <tr>\n",
              "      <th>2512</th>\n",
              "      <td>TX001748</td>\n",
              "      <td>AC00305</td>\n",
              "      <td>506.90</td>\n",
              "      <td>2023-11-01 17:44:46</td>\n",
              "      <td>Credit</td>\n",
              "      <td>Houston</td>\n",
              "      <td>D000337</td>\n",
              "      <td>138.210.196.19</td>\n",
              "      <td>M038</td>\n",
              "      <td>Branch</td>\n",
              "      <td>64.0</td>\n",
              "      <td>Doctor</td>\n",
              "      <td>56.0</td>\n",
              "      <td>1.0</td>\n",
              "      <td>11471.87</td>\n",
              "      <td>2024-11-04 8:10:09</td>\n",
              "    </tr>\n",
              "    <tr>\n",
              "      <th>2514</th>\n",
              "      <td>TX000147</td>\n",
              "      <td>AC00385</td>\n",
              "      <td>973.39</td>\n",
              "      <td>2023-08-30 17:23:20</td>\n",
              "      <td>Debit</td>\n",
              "      <td>Sacramento</td>\n",
              "      <td>D000292</td>\n",
              "      <td>202.194.199.70</td>\n",
              "      <td>M026</td>\n",
              "      <td>Branch</td>\n",
              "      <td>77.0</td>\n",
              "      <td>Retired</td>\n",
              "      <td>296.0</td>\n",
              "      <td>1.0</td>\n",
              "      <td>2042.22</td>\n",
              "      <td>2024-11-04 8:11:44</td>\n",
              "    </tr>\n",
              "    <tr>\n",
              "      <th>2515</th>\n",
              "      <td>TX001348</td>\n",
              "      <td>AC00455</td>\n",
              "      <td>787.41</td>\n",
              "      <td>2023-06-19 16:22:28</td>\n",
              "      <td>Debit</td>\n",
              "      <td>Memphis</td>\n",
              "      <td>D000351</td>\n",
              "      <td>150.25.200.56</td>\n",
              "      <td>M081</td>\n",
              "      <td>Online</td>\n",
              "      <td>25.0</td>\n",
              "      <td>Student</td>\n",
              "      <td>39.0</td>\n",
              "      <td>1.0</td>\n",
              "      <td>300.87</td>\n",
              "      <td>2024-11-04 8:06:44</td>\n",
              "    </tr>\n",
              "    <tr>\n",
              "      <th>2516</th>\n",
              "      <td>TX000986</td>\n",
              "      <td>AC00278</td>\n",
              "      <td>121.17</td>\n",
              "      <td>2023-12-25 17:31:16</td>\n",
              "      <td>Debit</td>\n",
              "      <td>Phoenix</td>\n",
              "      <td>D000573</td>\n",
              "      <td>155.19.119.0</td>\n",
              "      <td>M053</td>\n",
              "      <td>ATM</td>\n",
              "      <td>68.0</td>\n",
              "      <td>Doctor</td>\n",
              "      <td>158.0</td>\n",
              "      <td>1.0</td>\n",
              "      <td>12990.77</td>\n",
              "      <td>2024-11-04 8:10:12</td>\n",
              "    </tr>\n",
              "    <tr>\n",
              "      <th>2517</th>\n",
              "      <td>TX002364</td>\n",
              "      <td>AC00327</td>\n",
              "      <td>21.90</td>\n",
              "      <td>2023-04-10 17:04:28</td>\n",
              "      <td>Debit</td>\n",
              "      <td>Phoenix</td>\n",
              "      <td>D000216</td>\n",
              "      <td>136.172.149.77</td>\n",
              "      <td>M084</td>\n",
              "      <td>ATM</td>\n",
              "      <td>28.0</td>\n",
              "      <td>Student</td>\n",
              "      <td>30.0</td>\n",
              "      <td>1.0</td>\n",
              "      <td>1052.27</td>\n",
              "      <td>2024-11-04 8:11:15</td>\n",
              "    </tr>\n",
              "    <tr>\n",
              "      <th>2518</th>\n",
              "      <td>TX001913</td>\n",
              "      <td>AC00076</td>\n",
              "      <td>515.94</td>\n",
              "      <td>2023-12-22 16:42:33</td>\n",
              "      <td>Debit</td>\n",
              "      <td>San Francisco</td>\n",
              "      <td>D000606</td>\n",
              "      <td>27.215.118.94</td>\n",
              "      <td>M049</td>\n",
              "      <td>ATM</td>\n",
              "      <td>29.0</td>\n",
              "      <td>Engineer</td>\n",
              "      <td>37.0</td>\n",
              "      <td>1.0</td>\n",
              "      <td>1389.89</td>\n",
              "      <td>2024-11-04 8:11:10</td>\n",
              "    </tr>\n",
              "    <tr>\n",
              "      <th>2519</th>\n",
              "      <td>TX001360</td>\n",
              "      <td>AC00113</td>\n",
              "      <td>174.39</td>\n",
              "      <td>2023-01-09 16:08:52</td>\n",
              "      <td>Debit</td>\n",
              "      <td>San Francisco</td>\n",
              "      <td>D000078</td>\n",
              "      <td>98.255.160.110</td>\n",
              "      <td>M015</td>\n",
              "      <td>ATM</td>\n",
              "      <td>19.0</td>\n",
              "      <td>Student</td>\n",
              "      <td>36.0</td>\n",
              "      <td>1.0</td>\n",
              "      <td>1127.08</td>\n",
              "      <td>2024-11-04 8:11:01</td>\n",
              "    </tr>\n",
              "    <tr>\n",
              "      <th>2520</th>\n",
              "      <td>TX001373</td>\n",
              "      <td>AC00116</td>\n",
              "      <td>356.56</td>\n",
              "      <td>2023-10-09 17:23:21</td>\n",
              "      <td>Debit</td>\n",
              "      <td>New York</td>\n",
              "      <td>D000399</td>\n",
              "      <td>157.130.28.27</td>\n",
              "      <td>M100</td>\n",
              "      <td>Online</td>\n",
              "      <td>47.0</td>\n",
              "      <td>Engineer</td>\n",
              "      <td>52.0</td>\n",
              "      <td>1.0</td>\n",
              "      <td>2485.73</td>\n",
              "      <td>2024-11-04 8:11:57</td>\n",
              "    </tr>\n",
              "    <tr>\n",
              "      <th>2521</th>\n",
              "      <td>TX000884</td>\n",
              "      <td>AC00448</td>\n",
              "      <td>183.32</td>\n",
              "      <td>2023-05-10 16:27:51</td>\n",
              "      <td>Debit</td>\n",
              "      <td>Raleigh</td>\n",
              "      <td>D000450</td>\n",
              "      <td>162.207.77.170</td>\n",
              "      <td>M041</td>\n",
              "      <td>ATM</td>\n",
              "      <td>21.0</td>\n",
              "      <td>Student</td>\n",
              "      <td>74.0</td>\n",
              "      <td>1.0</td>\n",
              "      <td>137.42</td>\n",
              "      <td>2024-11-04 8:09:31</td>\n",
              "    </tr>\n",
              "    <tr>\n",
              "      <th>2522</th>\n",
              "      <td>TX002326</td>\n",
              "      <td>AC00003</td>\n",
              "      <td>20.17</td>\n",
              "      <td>2023-01-02 16:45:05</td>\n",
              "      <td>Debit</td>\n",
              "      <td>San Antonio</td>\n",
              "      <td>D000287</td>\n",
              "      <td>221.23.158.87</td>\n",
              "      <td>M088</td>\n",
              "      <td>ATM</td>\n",
              "      <td>77.0</td>\n",
              "      <td>Retired</td>\n",
              "      <td>86.0</td>\n",
              "      <td>1.0</td>\n",
              "      <td>3869.37</td>\n",
              "      <td>2024-11-04 8:08:39</td>\n",
              "    </tr>\n",
              "    <tr>\n",
              "      <th>2525</th>\n",
              "      <td>TX000281</td>\n",
              "      <td>AC00133</td>\n",
              "      <td>255.04</td>\n",
              "      <td>2023-11-23 16:15:59</td>\n",
              "      <td>Debit</td>\n",
              "      <td>Seattle</td>\n",
              "      <td>D000206</td>\n",
              "      <td>98.39.212.221</td>\n",
              "      <td>M084</td>\n",
              "      <td>ATM</td>\n",
              "      <td>45.0</td>\n",
              "      <td>Engineer</td>\n",
              "      <td>152.0</td>\n",
              "      <td>1.0</td>\n",
              "      <td>6217.86</td>\n",
              "      <td>2024-11-04 8:11:38</td>\n",
              "    </tr>\n",
              "    <tr>\n",
              "      <th>2526</th>\n",
              "      <td>TX000104</td>\n",
              "      <td>AC00464</td>\n",
              "      <td>196.16</td>\n",
              "      <td>2023-02-24 16:29:23</td>\n",
              "      <td>Debit</td>\n",
              "      <td>Virginia Beach</td>\n",
              "      <td>D000164</td>\n",
              "      <td>204.34.243.93</td>\n",
              "      <td>M099</td>\n",
              "      <td>Branch</td>\n",
              "      <td>27.0</td>\n",
              "      <td>Engineer</td>\n",
              "      <td>146.0</td>\n",
              "      <td>1.0</td>\n",
              "      <td>9418.86</td>\n",
              "      <td>2024-11-04 8:08:32</td>\n",
              "    </tr>\n",
              "    <tr>\n",
              "      <th>2527</th>\n",
              "      <td>TX000936</td>\n",
              "      <td>AC00320</td>\n",
              "      <td>20.64</td>\n",
              "      <td>2023-04-20 16:01:05</td>\n",
              "      <td>Debit</td>\n",
              "      <td>Charlotte</td>\n",
              "      <td>D000063</td>\n",
              "      <td>197.23.128.119</td>\n",
              "      <td>M079</td>\n",
              "      <td>Branch</td>\n",
              "      <td>22.0</td>\n",
              "      <td>Student</td>\n",
              "      <td>59.0</td>\n",
              "      <td>1.0</td>\n",
              "      <td>949.38</td>\n",
              "      <td>2024-11-04 8:09:17</td>\n",
              "    </tr>\n",
              "    <tr>\n",
              "      <th>2528</th>\n",
              "      <td>TX000914</td>\n",
              "      <td>AC00386</td>\n",
              "      <td>254.21</td>\n",
              "      <td>2023-05-22 16:48:08</td>\n",
              "      <td>Debit</td>\n",
              "      <td>Phoenix</td>\n",
              "      <td>D000487</td>\n",
              "      <td>137.33.78.168</td>\n",
              "      <td>M030</td>\n",
              "      <td>ATM</td>\n",
              "      <td>48.0</td>\n",
              "      <td>Engineer</td>\n",
              "      <td>46.0</td>\n",
              "      <td>1.0</td>\n",
              "      <td>2487.20</td>\n",
              "      <td>2024-11-04 8:10:50</td>\n",
              "    </tr>\n",
              "    <tr>\n",
              "      <th>2529</th>\n",
              "      <td>TX002086</td>\n",
              "      <td>AC00019</td>\n",
              "      <td>291.46</td>\n",
              "      <td>2023-02-08 16:29:56</td>\n",
              "      <td>Debit</td>\n",
              "      <td>Miami</td>\n",
              "      <td>D000665</td>\n",
              "      <td>149.84.108.18</td>\n",
              "      <td>M046</td>\n",
              "      <td>ATM</td>\n",
              "      <td>57.0</td>\n",
              "      <td>Retired</td>\n",
              "      <td>135.0</td>\n",
              "      <td>1.0</td>\n",
              "      <td>7142.53</td>\n",
              "      <td>2024-11-04 8:10:03</td>\n",
              "    </tr>\n",
              "    <tr>\n",
              "      <th>2530</th>\n",
              "      <td>TX002108</td>\n",
              "      <td>AC00190</td>\n",
              "      <td>46.60</td>\n",
              "      <td>2023-08-30 17:54:55</td>\n",
              "      <td>Debit</td>\n",
              "      <td>Detroit</td>\n",
              "      <td>D000029</td>\n",
              "      <td>147.227.81.224</td>\n",
              "      <td>M060</td>\n",
              "      <td>Online</td>\n",
              "      <td>55.0</td>\n",
              "      <td>Doctor</td>\n",
              "      <td>68.0</td>\n",
              "      <td>1.0</td>\n",
              "      <td>1562.90</td>\n",
              "      <td>2024-11-04 8:06:23</td>\n",
              "    </tr>\n",
              "    <tr>\n",
              "      <th>2531</th>\n",
              "      <td>TX000296</td>\n",
              "      <td>AC00272</td>\n",
              "      <td>20.54</td>\n",
              "      <td>2023-08-21 18:09:24</td>\n",
              "      <td>Debit</td>\n",
              "      <td>Fort Worth</td>\n",
              "      <td>D000348</td>\n",
              "      <td>171.101.134.74</td>\n",
              "      <td>M055</td>\n",
              "      <td>Branch</td>\n",
              "      <td>51.0</td>\n",
              "      <td>Engineer</td>\n",
              "      <td>72.0</td>\n",
              "      <td>1.0</td>\n",
              "      <td>5327.03</td>\n",
              "      <td>2024-11-04 8:07:28</td>\n",
              "    </tr>\n",
              "    <tr>\n",
              "      <th>2532</th>\n",
              "      <td>TX001046</td>\n",
              "      <td>AC00474</td>\n",
              "      <td>230.08</td>\n",
              "      <td>2023-05-01 16:23:40</td>\n",
              "      <td>Debit</td>\n",
              "      <td>Austin</td>\n",
              "      <td>D000045</td>\n",
              "      <td>93.52.44.101</td>\n",
              "      <td>M006</td>\n",
              "      <td>Online</td>\n",
              "      <td>79.0</td>\n",
              "      <td>Retired</td>\n",
              "      <td>124.0</td>\n",
              "      <td>1.0</td>\n",
              "      <td>4466.10</td>\n",
              "      <td>2024-11-04 8:11:47</td>\n",
              "    </tr>\n",
              "    <tr>\n",
              "      <th>2533</th>\n",
              "      <td>TX001484</td>\n",
              "      <td>AC00198</td>\n",
              "      <td>561.58</td>\n",
              "      <td>2023-06-23 17:38:26</td>\n",
              "      <td>Debit</td>\n",
              "      <td>Sacramento</td>\n",
              "      <td>D000229</td>\n",
              "      <td>170.154.69.105</td>\n",
              "      <td>M022</td>\n",
              "      <td>Online</td>\n",
              "      <td>65.0</td>\n",
              "      <td>Doctor</td>\n",
              "      <td>23.0</td>\n",
              "      <td>1.0</td>\n",
              "      <td>11748.86</td>\n",
              "      <td>2024-11-04 8:06:32</td>\n",
              "    </tr>\n",
              "    <tr>\n",
              "      <th>2534</th>\n",
              "      <td>TX000200</td>\n",
              "      <td>AC00358</td>\n",
              "      <td>493.11</td>\n",
              "      <td>2023-07-31 16:25:26</td>\n",
              "      <td>Debit</td>\n",
              "      <td>Colorado Springs</td>\n",
              "      <td>D000232</td>\n",
              "      <td>35.220.238.127</td>\n",
              "      <td>M022</td>\n",
              "      <td>Branch</td>\n",
              "      <td>53.0</td>\n",
              "      <td>Retired</td>\n",
              "      <td>236.0</td>\n",
              "      <td>1.0</td>\n",
              "      <td>7432.99</td>\n",
              "      <td>2024-11-04 8:08:01</td>\n",
              "    </tr>\n",
              "    <tr>\n",
              "      <th>2536</th>\n",
              "      <td>TX000026</td>\n",
              "      <td>AC00041</td>\n",
              "      <td>7.49</td>\n",
              "      <td>2023-10-20 17:53:13</td>\n",
              "      <td>Credit</td>\n",
              "      <td>Houston</td>\n",
              "      <td>D000671</td>\n",
              "      <td>81.248.235.147</td>\n",
              "      <td>M043</td>\n",
              "      <td>Online</td>\n",
              "      <td>65.0</td>\n",
              "      <td>Retired</td>\n",
              "      <td>276.0</td>\n",
              "      <td>1.0</td>\n",
              "      <td>3634.67</td>\n",
              "      <td>2024-11-04 8:09:44</td>\n",
              "    </tr>\n",
              "  </tbody>\n",
              "</table>\n",
              "</div>"
            ],
            "text/plain": [
              "     TransactionID AccountID  TransactionAmount PreviousTransactionDate  \\\n",
              "2512      TX001748   AC00305             506.90     2023-11-01 17:44:46   \n",
              "2514      TX000147   AC00385             973.39     2023-08-30 17:23:20   \n",
              "2515      TX001348   AC00455             787.41     2023-06-19 16:22:28   \n",
              "2516      TX000986   AC00278             121.17     2023-12-25 17:31:16   \n",
              "2517      TX002364   AC00327              21.90     2023-04-10 17:04:28   \n",
              "2518      TX001913   AC00076             515.94     2023-12-22 16:42:33   \n",
              "2519      TX001360   AC00113             174.39     2023-01-09 16:08:52   \n",
              "2520      TX001373   AC00116             356.56     2023-10-09 17:23:21   \n",
              "2521      TX000884   AC00448             183.32     2023-05-10 16:27:51   \n",
              "2522      TX002326   AC00003              20.17     2023-01-02 16:45:05   \n",
              "2525      TX000281   AC00133             255.04     2023-11-23 16:15:59   \n",
              "2526      TX000104   AC00464             196.16     2023-02-24 16:29:23   \n",
              "2527      TX000936   AC00320              20.64     2023-04-20 16:01:05   \n",
              "2528      TX000914   AC00386             254.21     2023-05-22 16:48:08   \n",
              "2529      TX002086   AC00019             291.46     2023-02-08 16:29:56   \n",
              "2530      TX002108   AC00190              46.60     2023-08-30 17:54:55   \n",
              "2531      TX000296   AC00272              20.54     2023-08-21 18:09:24   \n",
              "2532      TX001046   AC00474             230.08     2023-05-01 16:23:40   \n",
              "2533      TX001484   AC00198             561.58     2023-06-23 17:38:26   \n",
              "2534      TX000200   AC00358             493.11     2023-07-31 16:25:26   \n",
              "2536      TX000026   AC00041               7.49     2023-10-20 17:53:13   \n",
              "\n",
              "     TransactionType          Location DeviceID      IP Address MerchantID  \\\n",
              "2512          Credit           Houston  D000337  138.210.196.19       M038   \n",
              "2514           Debit        Sacramento  D000292  202.194.199.70       M026   \n",
              "2515           Debit           Memphis  D000351   150.25.200.56       M081   \n",
              "2516           Debit           Phoenix  D000573    155.19.119.0       M053   \n",
              "2517           Debit           Phoenix  D000216  136.172.149.77       M084   \n",
              "2518           Debit     San Francisco  D000606   27.215.118.94       M049   \n",
              "2519           Debit     San Francisco  D000078  98.255.160.110       M015   \n",
              "2520           Debit          New York  D000399   157.130.28.27       M100   \n",
              "2521           Debit           Raleigh  D000450  162.207.77.170       M041   \n",
              "2522           Debit       San Antonio  D000287   221.23.158.87       M088   \n",
              "2525           Debit           Seattle  D000206   98.39.212.221       M084   \n",
              "2526           Debit    Virginia Beach  D000164   204.34.243.93       M099   \n",
              "2527           Debit         Charlotte  D000063  197.23.128.119       M079   \n",
              "2528           Debit           Phoenix  D000487   137.33.78.168       M030   \n",
              "2529           Debit             Miami  D000665   149.84.108.18       M046   \n",
              "2530           Debit           Detroit  D000029  147.227.81.224       M060   \n",
              "2531           Debit        Fort Worth  D000348  171.101.134.74       M055   \n",
              "2532           Debit            Austin  D000045    93.52.44.101       M006   \n",
              "2533           Debit        Sacramento  D000229  170.154.69.105       M022   \n",
              "2534           Debit  Colorado Springs  D000232  35.220.238.127       M022   \n",
              "2536          Credit           Houston  D000671  81.248.235.147       M043   \n",
              "\n",
              "     Channel  CustomerAge CustomerOccupation  TransactionDuration  \\\n",
              "2512  Branch         64.0             Doctor                 56.0   \n",
              "2514  Branch         77.0            Retired                296.0   \n",
              "2515  Online         25.0            Student                 39.0   \n",
              "2516     ATM         68.0             Doctor                158.0   \n",
              "2517     ATM         28.0            Student                 30.0   \n",
              "2518     ATM         29.0           Engineer                 37.0   \n",
              "2519     ATM         19.0            Student                 36.0   \n",
              "2520  Online         47.0           Engineer                 52.0   \n",
              "2521     ATM         21.0            Student                 74.0   \n",
              "2522     ATM         77.0            Retired                 86.0   \n",
              "2525     ATM         45.0           Engineer                152.0   \n",
              "2526  Branch         27.0           Engineer                146.0   \n",
              "2527  Branch         22.0            Student                 59.0   \n",
              "2528     ATM         48.0           Engineer                 46.0   \n",
              "2529     ATM         57.0            Retired                135.0   \n",
              "2530  Online         55.0             Doctor                 68.0   \n",
              "2531  Branch         51.0           Engineer                 72.0   \n",
              "2532  Online         79.0            Retired                124.0   \n",
              "2533  Online         65.0             Doctor                 23.0   \n",
              "2534  Branch         53.0            Retired                236.0   \n",
              "2536  Online         65.0            Retired                276.0   \n",
              "\n",
              "      LoginAttempts  AccountBalance     TransactionDate  \n",
              "2512            1.0        11471.87  2024-11-04 8:10:09  \n",
              "2514            1.0         2042.22  2024-11-04 8:11:44  \n",
              "2515            1.0          300.87  2024-11-04 8:06:44  \n",
              "2516            1.0        12990.77  2024-11-04 8:10:12  \n",
              "2517            1.0         1052.27  2024-11-04 8:11:15  \n",
              "2518            1.0         1389.89  2024-11-04 8:11:10  \n",
              "2519            1.0         1127.08  2024-11-04 8:11:01  \n",
              "2520            1.0         2485.73  2024-11-04 8:11:57  \n",
              "2521            1.0          137.42  2024-11-04 8:09:31  \n",
              "2522            1.0         3869.37  2024-11-04 8:08:39  \n",
              "2525            1.0         6217.86  2024-11-04 8:11:38  \n",
              "2526            1.0         9418.86  2024-11-04 8:08:32  \n",
              "2527            1.0          949.38  2024-11-04 8:09:17  \n",
              "2528            1.0         2487.20  2024-11-04 8:10:50  \n",
              "2529            1.0         7142.53  2024-11-04 8:10:03  \n",
              "2530            1.0         1562.90  2024-11-04 8:06:23  \n",
              "2531            1.0         5327.03  2024-11-04 8:07:28  \n",
              "2532            1.0         4466.10  2024-11-04 8:11:47  \n",
              "2533            1.0        11748.86  2024-11-04 8:06:32  \n",
              "2534            1.0         7432.99  2024-11-04 8:08:01  \n",
              "2536            1.0         3634.67  2024-11-04 8:09:44  "
            ]
          },
          "execution_count": 97,
          "metadata": {},
          "output_type": "execute_result"
        }
      ],
      "source": [
        "# Mengecek dataset menggunakan duplicated().sum()\n",
        "duplicate_count = df.duplicated().sum()\n",
        "print(f\"Jumlah baris duplikat: {duplicate_count}\")\n",
        "df[df.duplicated()]"
      ]
    },
    {
      "cell_type": "code",
      "execution_count": 98,
      "metadata": {
        "id": "TGLR0NTwsMOp"
      },
      "outputs": [
        {
          "data": {
            "text/html": [
              "<div>\n",
              "<style scoped>\n",
              "    .dataframe tbody tr th:only-of-type {\n",
              "        vertical-align: middle;\n",
              "    }\n",
              "\n",
              "    .dataframe tbody tr th {\n",
              "        vertical-align: top;\n",
              "    }\n",
              "\n",
              "    .dataframe thead th {\n",
              "        text-align: right;\n",
              "    }\n",
              "</style>\n",
              "<table border=\"1\" class=\"dataframe\">\n",
              "  <thead>\n",
              "    <tr style=\"text-align: right;\">\n",
              "      <th></th>\n",
              "      <th>TransactionAmount</th>\n",
              "      <th>PreviousTransactionDate</th>\n",
              "      <th>TransactionType</th>\n",
              "      <th>Location</th>\n",
              "      <th>Channel</th>\n",
              "      <th>CustomerAge</th>\n",
              "      <th>CustomerOccupation</th>\n",
              "      <th>TransactionDuration</th>\n",
              "      <th>LoginAttempts</th>\n",
              "      <th>AccountBalance</th>\n",
              "      <th>TransactionDate</th>\n",
              "    </tr>\n",
              "  </thead>\n",
              "  <tbody>\n",
              "    <tr>\n",
              "      <th>0</th>\n",
              "      <td>14.09</td>\n",
              "      <td>2023-04-11 16:29:14</td>\n",
              "      <td>Debit</td>\n",
              "      <td>San Diego</td>\n",
              "      <td>ATM</td>\n",
              "      <td>70.0</td>\n",
              "      <td>Doctor</td>\n",
              "      <td>81.0</td>\n",
              "      <td>1.0</td>\n",
              "      <td>5112.21</td>\n",
              "      <td>2024-11-04 8:08:08</td>\n",
              "    </tr>\n",
              "    <tr>\n",
              "      <th>1</th>\n",
              "      <td>376.24</td>\n",
              "      <td>2023-06-27 16:44:19</td>\n",
              "      <td>Debit</td>\n",
              "      <td>Houston</td>\n",
              "      <td>ATM</td>\n",
              "      <td>68.0</td>\n",
              "      <td>Doctor</td>\n",
              "      <td>141.0</td>\n",
              "      <td>1.0</td>\n",
              "      <td>13758.91</td>\n",
              "      <td>2024-11-04 8:09:35</td>\n",
              "    </tr>\n",
              "    <tr>\n",
              "      <th>2</th>\n",
              "      <td>126.29</td>\n",
              "      <td>2023-07-10 18:16:08</td>\n",
              "      <td>Debit</td>\n",
              "      <td>Mesa</td>\n",
              "      <td>Online</td>\n",
              "      <td>19.0</td>\n",
              "      <td>Student</td>\n",
              "      <td>56.0</td>\n",
              "      <td>1.0</td>\n",
              "      <td>1122.35</td>\n",
              "      <td>2024-11-04 8:07:04</td>\n",
              "    </tr>\n",
              "    <tr>\n",
              "      <th>3</th>\n",
              "      <td>184.50</td>\n",
              "      <td>2023-05-05 16:32:11</td>\n",
              "      <td>Debit</td>\n",
              "      <td>Raleigh</td>\n",
              "      <td>Online</td>\n",
              "      <td>26.0</td>\n",
              "      <td>Student</td>\n",
              "      <td>25.0</td>\n",
              "      <td>1.0</td>\n",
              "      <td>8569.06</td>\n",
              "      <td>2024-11-04 8:09:06</td>\n",
              "    </tr>\n",
              "    <tr>\n",
              "      <th>4</th>\n",
              "      <td>13.45</td>\n",
              "      <td>2023-10-16 17:51:24</td>\n",
              "      <td>Credit</td>\n",
              "      <td>Atlanta</td>\n",
              "      <td>Online</td>\n",
              "      <td>NaN</td>\n",
              "      <td>Student</td>\n",
              "      <td>198.0</td>\n",
              "      <td>1.0</td>\n",
              "      <td>7429.40</td>\n",
              "      <td>2024-11-04 8:06:39</td>\n",
              "    </tr>\n",
              "  </tbody>\n",
              "</table>\n",
              "</div>"
            ],
            "text/plain": [
              "   TransactionAmount PreviousTransactionDate TransactionType   Location  \\\n",
              "0              14.09     2023-04-11 16:29:14           Debit  San Diego   \n",
              "1             376.24     2023-06-27 16:44:19           Debit    Houston   \n",
              "2             126.29     2023-07-10 18:16:08           Debit       Mesa   \n",
              "3             184.50     2023-05-05 16:32:11           Debit    Raleigh   \n",
              "4              13.45     2023-10-16 17:51:24          Credit    Atlanta   \n",
              "\n",
              "  Channel  CustomerAge CustomerOccupation  TransactionDuration  LoginAttempts  \\\n",
              "0     ATM         70.0             Doctor                 81.0            1.0   \n",
              "1     ATM         68.0             Doctor                141.0            1.0   \n",
              "2  Online         19.0            Student                 56.0            1.0   \n",
              "3  Online         26.0            Student                 25.0            1.0   \n",
              "4  Online          NaN            Student                198.0            1.0   \n",
              "\n",
              "   AccountBalance     TransactionDate  \n",
              "0         5112.21  2024-11-04 8:08:08  \n",
              "1        13758.91  2024-11-04 8:09:35  \n",
              "2         1122.35  2024-11-04 8:07:04  \n",
              "3         8569.06  2024-11-04 8:09:06  \n",
              "4         7429.40  2024-11-04 8:06:39  "
            ]
          },
          "execution_count": 98,
          "metadata": {},
          "output_type": "execute_result"
        }
      ],
      "source": [
        "# Melakukan drop pada kolom yang memiliki keterangan id dan IP Address\n",
        "df_important = df.drop(columns=[\n",
        "    'TransactionID', 'AccountID', 'DeviceID', 'MerchantID', 'IP Address'\n",
        "])\n",
        "df_important.head()"
      ]
    },
    {
      "cell_type": "markdown",
      "metadata": {},
      "source": [
        "Label Encoding & Standarisasi/Normalsisasi dipindahkan ke cell bawah setelah proses pembersihan data agar hasilnya lebih baik dan optimal"
      ]
    },
    {
      "cell_type": "code",
      "execution_count": 99,
      "metadata": {
        "id": "u1EmlGmZCCAP"
      },
      "outputs": [
        {
          "data": {
            "text/plain": [
              "['TransactionAmount',\n",
              " 'PreviousTransactionDate',\n",
              " 'TransactionType',\n",
              " 'Location',\n",
              " 'Channel',\n",
              " 'CustomerAge',\n",
              " 'CustomerOccupation',\n",
              " 'TransactionDuration',\n",
              " 'LoginAttempts',\n",
              " 'AccountBalance',\n",
              " 'TransactionDate']"
            ]
          },
          "execution_count": 99,
          "metadata": {},
          "output_type": "execute_result"
        }
      ],
      "source": [
        "# Last checking gunakan columns.tolist() untuk checking seluruh fitur yang ada.\n",
        "# Perbaiki kode di bawah ini tanpa menambahkan atau mengurangi cell code ini.\n",
        "# ____.columns.tolist()\n",
        "df_important.columns.tolist()"
      ]
    },
    {
      "cell_type": "markdown",
      "metadata": {
        "id": "qnbH2l_wv9l8"
      },
      "source": [
        "(Opsional) Pembersihan dan Pra Pemrosesan Data [Skilled]\n",
        "\n",
        "**Biarkan kosong jika tidak menerapkan kriteria skilled**"
      ]
    },
    {
      "cell_type": "code",
      "execution_count": 100,
      "metadata": {
        "id": "-UoGhAUrsxIV"
      },
      "outputs": [
        {
          "name": "stdout",
          "output_type": "stream",
          "text": [
            "Missing values after handling:\n",
            "Series([], dtype: int64)\n"
          ]
        }
      ],
      "source": [
        "# Menangani data yang hilang (bisa menggunakan dropna() atau metode imputasi fillna().\n",
        "# Menangani missing values\n",
        "\n",
        "# 1. Untuk kolom numerik → isi dengan mean\n",
        "numeric_cols = df_important.select_dtypes(include='number').columns\n",
        "for col in numeric_cols:\n",
        "    df_important[col] = df_important[col].fillna(df_important[col].mean())\n",
        "\n",
        "# 2. Untuk kolom kategorikal → isi dengan modus (mode)\n",
        "categorical_cols = df_important.select_dtypes(include='object').columns\n",
        "for col in categorical_cols:\n",
        "    df_important[col] = df_important[col].fillna(df_important[col].mode()[0])\n",
        "\n",
        "# 3. Cek apakah masih ada missing values\n",
        "missing_values_after = df_important.isnull().sum()\n",
        "print(\"Missing values after handling:\")\n",
        "print(missing_values_after[missing_values_after > 0])\n"
      ]
    },
    {
      "cell_type": "code",
      "execution_count": 101,
      "metadata": {
        "id": "WGt2XApTttSL"
      },
      "outputs": [
        {
          "name": "stdout",
          "output_type": "stream",
          "text": [
            "Jumlah baris duplikat yang di-drop: 22\n"
          ]
        }
      ],
      "source": [
        "# Menghapus data duplikat menggunakan drop_duplicates().\n",
        "before = df_important.shape[0]\n",
        "df_droped = df_important.drop_duplicates()\n",
        "after = df_droped.shape[0]\n",
        "\n",
        "print(f\"Jumlah baris duplikat yang di-drop: {before - after}\")"
      ]
    },
    {
      "cell_type": "code",
      "execution_count": 102,
      "metadata": {},
      "outputs": [
        {
          "name": "stdout",
          "output_type": "stream",
          "text": [
            "   TransactionAmount PreviousTransactionDate  TransactionType  Location  \\\n",
            "0              14.09     2023-04-11 16:29:14                1        36   \n",
            "1             376.24     2023-06-27 16:44:19                1        15   \n",
            "2             126.29     2023-07-10 18:16:08                1        23   \n",
            "3             184.50     2023-05-05 16:32:11                1        33   \n",
            "4              13.45     2023-10-16 17:51:24                0         1   \n",
            "\n",
            "   Channel  CustomerAge  CustomerOccupation  TransactionDuration  \\\n",
            "0        0    70.000000                   0                 81.0   \n",
            "1        0    68.000000                   0                141.0   \n",
            "2        2    19.000000                   3                 56.0   \n",
            "3        2    26.000000                   3                 25.0   \n",
            "4        2    44.678444                   3                198.0   \n",
            "\n",
            "   LoginAttempts  AccountBalance     TransactionDate  \n",
            "0            1.0         5112.21  2024-11-04 8:08:08  \n",
            "1            1.0        13758.91  2024-11-04 8:09:35  \n",
            "2            1.0         1122.35  2024-11-04 8:07:04  \n",
            "3            1.0         8569.06  2024-11-04 8:09:06  \n",
            "4            1.0         7429.40  2024-11-04 8:06:39  \n"
          ]
        }
      ],
      "source": [
        "# Melakukan feature encoding menggunakan LabelEncoder() untuk fitur kategorikal.\n",
        "# Pastikan kamu menggunakan function head setelah melalukan encoding.\n",
        "df_labeled = df_droped.copy()\n",
        "label_encoder = LabelEncoder()\n",
        "df_labeled['TransactionType'] = label_encoder.fit_transform(df_labeled['TransactionType'])\n",
        "df_labeled['CustomerOccupation'] = label_encoder.fit_transform(df_labeled['CustomerOccupation'])\n",
        "df_labeled['Location'] = label_encoder.fit_transform(df_labeled['Location'])\n",
        "df_labeled['Channel'] = label_encoder.fit_transform(df_labeled['Channel'])\n",
        "print (df_labeled.head())"
      ]
    },
    {
      "cell_type": "markdown",
      "metadata": {
        "id": "H5RrswThwQrC"
      },
      "source": [
        "(Opsional) Pembersihan dan Pra Pemrosesan Data [Advanced]\n",
        "\n",
        "**Biarkan kosong jika tidak menerapkan kriteria advanced**"
      ]
    },
    {
      "cell_type": "code",
      "execution_count": 103,
      "metadata": {
        "id": "mvhfyYpat9Xs"
      },
      "outputs": [
        {
          "data": {
            "image/png": "[encoded data removed]",
            "text/plain": [
              "<Figure size 600x400 with 1 Axes>"
            ]
          },
          "metadata": {},
          "output_type": "display_data"
        },
        {
          "data": {
            "image/png": "[encoded data removed]",
            "text/plain": [
              "<Figure size 600x400 with 1 Axes>"
            ]
          },
          "metadata": {},
          "output_type": "display_data"
        },
        {
          "data": {
            "image/png": "[encoded data removed]",
            "text/plain": [
              "<Figure size 600x400 with 1 Axes>"
            ]
          },
          "metadata": {},
          "output_type": "display_data"
        },
        {
          "data": {
            "image/png": "[encoded data removed]",
            "text/plain": [
              "<Figure size 600x400 with 1 Axes>"
            ]
          },
          "metadata": {},
          "output_type": "display_data"
        },
        {
          "data": {
            "image/png": "[encoded data removed]",
            "text/plain": [
              "<Figure size 600x400 with 1 Axes>"
            ]
          },
          "metadata": {},
          "output_type": "display_data"
        }
      ],
      "source": [
        "# Melakukan Handling Outlier Data berdasarkan jumlah outlier, apakah menggunakan metode drop atau mengisi nilai tersebut.\n",
        "\n",
        "numeric_cols = df_droped.select_dtypes(include='number').columns\n",
        "\n",
        "# Loop untuk satu plot per kolom\n",
        "for col in numeric_cols:\n",
        "    plt.figure(figsize=(6, 4))\n",
        "    sns.boxplot(x=df[col])\n",
        "    plt.title(f\"Boxplot: {col}\")\n",
        "    plt.tight_layout()\n",
        "    plt.show()"
      ]
    },
    {
      "cell_type": "markdown",
      "metadata": {},
      "source": [
        "Keputusan saya ketika melihat hasil boxplot untuk outlier saya memilih untuk membiarkan outlier dan tidak dihapus atau digantikan karena outlier hanya terjadi pada login attempts dan nominal transaksi, dimana anomali pada login attempts justru dapat dijadikan salah satu fitur penanda jika ada anomali itu bisa jadi sebuah fraud. Sama halnya seperti Transaction amount transaksi besar bisa saja terjadi jika seseorang membeli rumah tapi bisa juga terjadi ketika tabungannya sedang dikosongkan karena tertipu. \n",
        "\n",
        "Jadi menurut saya lebih bijak jika outlier tidak dihapus."
      ]
    },
    {
      "cell_type": "code",
      "execution_count": 126,
      "metadata": {},
      "outputs": [
        {
          "name": "stdout",
          "output_type": "stream",
          "text": [
            "   TransactionAmount  CustomerAge  TransactionDuration  LoginAttempts  \\\n",
            "0          -0.974847     1.429426            -0.553474      -0.206417   \n",
            "1           0.269812     1.316722             0.308367      -0.206417   \n",
            "2          -0.589231    -1.444515            -0.912575      -0.206417   \n",
            "3          -0.389172    -1.050052            -1.357859      -0.206417   \n",
            "4          -0.977046     0.002511             1.127115      -0.206417   \n",
            "\n",
            "   AccountBalance  \n",
            "0       -0.001152  \n",
            "1        2.229465  \n",
            "2       -1.030430  \n",
            "3        0.890622  \n",
            "4        0.596621  \n"
          ]
        }
      ],
      "source": [
        "# Melakukan feature scaling menggunakan MinMaxScaler() atau StandardScalar() untuk fitur numerik.\n",
        "# Pastikan kamu menggunakan function head setelah melalukan scaling.\n",
        "scaler = StandardScaler()  \n",
        "scaled_features = scaler.fit_transform(df_droped[numeric_cols])\n",
        "df_scaled = pd.DataFrame(scaled_features, columns=numeric_cols)\n",
        "\n",
        "print(df_scaled.head())"
      ]
    },
    {
      "cell_type": "markdown",
      "metadata": {},
      "source": [
        "Karena saya tidak melakukan penghapusan outlier saya memilih menggunakan StandardScaler"
      ]
    },
    {
      "cell_type": "code",
      "execution_count": 132,
      "metadata": {},
      "outputs": [
        {
          "data": {
            "text/plain": [
              "count    2511.000000\n",
              "mean      297.656468\n",
              "std       292.230367\n",
              "min         0.260000\n",
              "25%        81.310000\n",
              "50%       211.360000\n",
              "75%       413.105000\n",
              "max      1919.110000\n",
              "Name: TransactionAmount, dtype: float64"
            ]
          },
          "execution_count": 132,
          "metadata": {},
          "output_type": "execute_result"
        }
      ],
      "source": [
        "df['TransactionAmount'].describe()"
      ]
    },
    {
      "cell_type": "code",
      "execution_count": 139,
      "metadata": {
        "id": "QjcR-3G0u-GL"
      },
      "outputs": [
        {
          "data": {
            "text/html": [
              "<div>\n",
              "<style scoped>\n",
              "    .dataframe tbody tr th:only-of-type {\n",
              "        vertical-align: middle;\n",
              "    }\n",
              "\n",
              "    .dataframe tbody tr th {\n",
              "        vertical-align: top;\n",
              "    }\n",
              "\n",
              "    .dataframe thead th {\n",
              "        text-align: right;\n",
              "    }\n",
              "</style>\n",
              "<table border=\"1\" class=\"dataframe\">\n",
              "  <thead>\n",
              "    <tr style=\"text-align: right;\">\n",
              "      <th></th>\n",
              "      <th>TransactionAmount</th>\n",
              "      <th>Transaction_bin</th>\n",
              "      <th>Transaction_bin_encoded</th>\n",
              "      <th>LoginAttempts</th>\n",
              "      <th>Login_bin</th>\n",
              "      <th>Login_bin_encoded</th>\n",
              "    </tr>\n",
              "  </thead>\n",
              "  <tbody>\n",
              "    <tr>\n",
              "      <th>0</th>\n",
              "      <td>14.09</td>\n",
              "      <td>Low</td>\n",
              "      <td>1</td>\n",
              "      <td>1.0</td>\n",
              "      <td>Normal</td>\n",
              "      <td>0</td>\n",
              "    </tr>\n",
              "    <tr>\n",
              "      <th>1</th>\n",
              "      <td>376.24</td>\n",
              "      <td>Medium</td>\n",
              "      <td>2</td>\n",
              "      <td>1.0</td>\n",
              "      <td>Normal</td>\n",
              "      <td>0</td>\n",
              "    </tr>\n",
              "    <tr>\n",
              "      <th>2</th>\n",
              "      <td>126.29</td>\n",
              "      <td>Medium</td>\n",
              "      <td>2</td>\n",
              "      <td>1.0</td>\n",
              "      <td>Normal</td>\n",
              "      <td>0</td>\n",
              "    </tr>\n",
              "    <tr>\n",
              "      <th>3</th>\n",
              "      <td>184.50</td>\n",
              "      <td>Medium</td>\n",
              "      <td>2</td>\n",
              "      <td>1.0</td>\n",
              "      <td>Normal</td>\n",
              "      <td>0</td>\n",
              "    </tr>\n",
              "    <tr>\n",
              "      <th>4</th>\n",
              "      <td>13.45</td>\n",
              "      <td>Low</td>\n",
              "      <td>1</td>\n",
              "      <td>1.0</td>\n",
              "      <td>Normal</td>\n",
              "      <td>0</td>\n",
              "    </tr>\n",
              "  </tbody>\n",
              "</table>\n",
              "</div>"
            ],
            "text/plain": [
              "   TransactionAmount Transaction_bin  Transaction_bin_encoded  LoginAttempts  \\\n",
              "0              14.09             Low                        1            1.0   \n",
              "1             376.24          Medium                        2            1.0   \n",
              "2             126.29          Medium                        2            1.0   \n",
              "3             184.50          Medium                        2            1.0   \n",
              "4              13.45             Low                        1            1.0   \n",
              "\n",
              "  Login_bin  Login_bin_encoded  \n",
              "0    Normal                  0  \n",
              "1    Normal                  0  \n",
              "2    Normal                  0  \n",
              "3    Normal                  0  \n",
              "4    Normal                  0  "
            ]
          },
          "execution_count": 139,
          "metadata": {},
          "output_type": "execute_result"
        }
      ],
      "source": [
        "# Melakukan binning data berdasarkan kondisi rentang nilai pada fitur numerik,\n",
        "# lakukan pada satu sampai dua fitur numerik.\n",
        "# Silahkan lakukan encode hasil binning tersebut menggunakan LabelEncoder.\n",
        "# Pastikan kamu mengerjakan tahapan ini pada satu cell.\n",
        "\n",
        "# Copy agar tidak mengubah df asli\n",
        "df_binned = df_droped.copy()\n",
        "\n",
        "# --- 1. Binning untuk TransactionAmount ---\n",
        "# Misalnya: Low < 100, Medium 100–500, High > 500\n",
        "df_binned['Transaction_bin'] = pd.cut(\n",
        "    df_binned['TransactionAmount'],\n",
        "    bins=[-float('inf'), 100, 500, float('inf')],\n",
        "    labels=['Low', 'Medium', 'High']\n",
        ")\n",
        "\n",
        "# --- 2. Binning untuk LoginAttempts ---\n",
        "# Misalnya: 1 (Normal), 2–3 (Suspicious), >3 (Very Suspicious)\n",
        "df_binned['Login_bin'] = pd.cut(\n",
        "    df_binned['LoginAttempts'],\n",
        "    bins=[-float('inf'), 1, 3, float('inf')],\n",
        "    labels=['Normal', 'Suspicious', 'Very Suspicious']\n",
        ")\n",
        "\n",
        "# --- 3. Encode hasil binning dengan LabelEncoder ---\n",
        "le = LabelEncoder()\n",
        "df_binned['Transaction_bin_encoded'] = le.fit_transform(df_binned['Transaction_bin'])\n",
        "df_binned['Login_bin_encoded'] = le.fit_transform(df_binned['Login_bin'])\n",
        "\n",
        "# Lihat hasil\n",
        "df_binned[['TransactionAmount', 'Transaction_bin', 'Transaction_bin_encoded',\n",
        "           'LoginAttempts', 'Login_bin', 'Login_bin_encoded']].head()"
      ]
    },
    {
      "cell_type": "markdown",
      "metadata": {
        "id": "Fkd_QHXWMBDr"
      },
      "source": [
        "# **4. Membangun Model Clustering**\n",
        "Pada tahap ini, Anda membangun model clustering dengan memilih algoritma yang sesuai untuk mengelompokkan data berdasarkan kesamaan.\n",
        "1. Pastikan Anda menggunakan dataframe yang sudah melalui processing sesuai dengan levelnya (Basic, Skilled, Advanced)\n",
        "2. Melakukan visualisasi Elbow Method untuk menentukan jumlah cluster terbaik menggunakan `KElbowVisualizer()`.\n",
        "3. Menggunakan algoritma K-Means Clustering dengan `sklearn.cluster.KMeans()`.\n",
        "4. Jalankan cell code `joblib.dump(model_kmeans, \"model_clustering.h5\")` untuk menyimpan model yang sudah dibuat."
      ]
    },
    {
      "cell_type": "code",
      "execution_count": 106,
      "metadata": {
        "id": "hYHmRnb42A1P"
      },
      "outputs": [],
      "source": [
        "# Gunakan describe untuk memastikan proses clustering menggunakan dataset hasil preprocessing\n",
        "# Lengkapi kode ini dengan mengubah nama DataFrame yang akan dilatih.\n",
        "# Kode harus digunakan dan dilarang menambahkan syntax lainnya pada cell ini.\n",
        "# ___.describe()"
      ]
    },
    {
      "cell_type": "code",
      "execution_count": 107,
      "metadata": {
        "id": "hgYvwWOzM93L"
      },
      "outputs": [],
      "source": [
        "# Melakukan visualisasi Elbow Method menggunakan KElbowVisualizer()"
      ]
    },
    {
      "cell_type": "code",
      "execution_count": 108,
      "metadata": {
        "id": "HvngRg-r4EcL"
      },
      "outputs": [],
      "source": [
        "# Menggunakan algoritma K-Means Clustering"
      ]
    },
    {
      "cell_type": "markdown",
      "metadata": {
        "id": "6aVHlHyU1Dcx"
      },
      "source": [
        "Jalankan cell code ini untuk menyimpan model kamu."
      ]
    },
    {
      "cell_type": "code",
      "execution_count": 109,
      "metadata": {
        "id": "D7AvYmQnY_fI"
      },
      "outputs": [],
      "source": [
        "# Menyimpan model menggunakan joblib\n",
        "# import joblib\n",
        "# joblib.dump(___, \"model_clustering.h5\")"
      ]
    },
    {
      "cell_type": "markdown",
      "metadata": {
        "id": "YDOD9eVMx3mC"
      },
      "source": [
        "(Opsional) Membangun Model Clustering [Skilled]\n",
        "\n",
        "**Biarkan kosong jika tidak menerapkan kriteria skilled**"
      ]
    },
    {
      "cell_type": "code",
      "execution_count": 110,
      "metadata": {
        "id": "SELNsH5O4Oyn"
      },
      "outputs": [],
      "source": [
        "# Menghitung dan menampilkan nilai Silhouette Score."
      ]
    },
    {
      "cell_type": "code",
      "execution_count": 111,
      "metadata": {
        "id": "K4EbkaXg4QAN"
      },
      "outputs": [],
      "source": [
        "# Membuat visualisasi hasil clustering"
      ]
    },
    {
      "cell_type": "markdown",
      "metadata": {
        "id": "uloMRbnsyAbB"
      },
      "source": [
        "(Opsional) Membangun Model Clustering [Advanced]\n",
        "\n",
        "**Biarkan kosong jika tidak menerapkan kriteria advanced**"
      ]
    },
    {
      "cell_type": "code",
      "execution_count": 112,
      "metadata": {
        "id": "SgfOarXX4SD2"
      },
      "outputs": [],
      "source": [
        "# Membangun model menggunakan PCA.\n",
        "# ___ =PCA(n_components=<x>)\n",
        "# ___ = ____.fit_transform(___)\n",
        "# Menyimpan data PCA sebagai Dataframe dengan nama PCA_<numbers>\n",
        "# <data_final> = pd.DataFrame(___, columns=['PCA1', 'PCA2', <sesuaikan dengan jumlah n>])\n",
        "# Pastikan kamu membangun model Kmeans baru dengan data yang sudah dimodifikasi melalui PCA.\n",
        "# ___ = KMeans(n_clusters=<x>)\n",
        "# ___.fit(<data_final>)"
      ]
    },
    {
      "cell_type": "code",
      "execution_count": 113,
      "metadata": {
        "id": "uKvJy9Ky4VB3"
      },
      "outputs": [],
      "source": [
        "# Simpan model PCA sebagai perbandingan dengan menjalankan cell code ini joblib.dump(model,\"PCA_model_clustering.h5\")\n",
        "# Pastikan yang disimpan model yang sudah melalui .fit berdasarkan dataset yang sudah dilakukan PCA\n",
        "# joblib.dump(___, \"PCA_model_clustering.h5\")"
      ]
    },
    {
      "cell_type": "markdown",
      "metadata": {
        "id": "anlTI9Trb7F6"
      },
      "source": [
        "# **5. Interpretasi Cluster**"
      ]
    },
    {
      "cell_type": "markdown",
      "metadata": {
        "id": "JfgVMEBDS3KG"
      },
      "source": [
        "## **a. Interpretasi Hasil Clustering**\n",
        "1. **Contoh Interpretasi:**\n",
        "- **Cluster 1: (Nasabah Bertransaksi dan Pendapatan Besar)**:\n",
        "  - **Rata-rata (mean) Annual Income:** 0.953 (48,260)\n",
        "  - **Rata-rata (mean) Spending Score:** 0.8 (56.48)\n",
        "  - **Analisis:** Cluster ini mencakup pelanggan dengan pendapatan tahunan tinggi dan tingkat pengeluaran yang cukup tinggi. Pelanggan dalam cluster ini cenderung memiliki daya beli yang tinggi dan mereka lebih cenderung untuk membelanjakan sebagian besar pendapatan mereka. Sehingga rekomendasi pada kelompok nasabah ini adalah dengan menawarkan produk-produk investasi atau perbankan yang berkualitas tinggi.\n"
      ]
    },
    {
      "cell_type": "code",
      "execution_count": 114,
      "metadata": {
        "id": "Qmpy4fmV64Mi"
      },
      "outputs": [],
      "source": [
        "# Menampilkan analisis deskriptif minimal mean, min dan max untuk fitur numerik.\n",
        "# Silakan menambahkan fungsi agregasi lainnya untuk experience lebih baik.\n",
        "# pastikan output menghasilkan agregasi dan groupby bersamaan dengan mean, min, dan max."
      ]
    },
    {
      "cell_type": "markdown",
      "metadata": {
        "id": "KrjMI_dG6tnb"
      },
      "source": [
        "## Menjelaskan karakteristik tiap cluster berdasarkan rentangnya.\n",
        "1. **Cluster 1: (___)**:\n",
        "  - **Rata-rata (mean) <Fitur>:** <Sebelum inverse> <Setelah inverse>\n",
        "  - **Analisis:** Cluster ini ..."
      ]
    },
    {
      "cell_type": "markdown",
      "metadata": {
        "id": "jaYP1fx5VgWO"
      },
      "source": [
        "# **6. Mengeksport Data**\n",
        "\n",
        "1. Simpan nama kolom hasil clustering dengan nama `Target`.\n",
        "2. Simpan hasilnya ke dalam file CSV menggunakan function `to_csv()`."
      ]
    },
    {
      "cell_type": "code",
      "execution_count": 115,
      "metadata": {
        "id": "3FInN10U5S4f"
      },
      "outputs": [],
      "source": [
        "# Pastikan nama kolom clustering sudah diubah menjadi Target"
      ]
    },
    {
      "cell_type": "code",
      "execution_count": 116,
      "metadata": {
        "id": "fkbg_o80aRSH"
      },
      "outputs": [],
      "source": [
        "# Simpan Data\n",
        "# ___.to_csv('data_clustering.csv', index=False)"
      ]
    },
    {
      "cell_type": "markdown",
      "metadata": {
        "id": "rz1vFc2yzFPD"
      },
      "source": [
        "(Opsional) Interpretasi Hasil Clustering [Skilled]\n",
        "\n",
        "**Biarkan kosong jika tidak menerapkan kriteria skilled**"
      ]
    },
    {
      "cell_type": "code",
      "execution_count": 117,
      "metadata": {
        "id": "OMcRV15y_hH3"
      },
      "outputs": [],
      "source": [
        "# inverse dataset ke rentang normal untuk numerikal\n",
        "# df[numerical_cols] = <nama_scaler>.inverse_transform(df[numerical_cols])\n",
        "# tampilkan dataset yang sudah di-inverse\n",
        "# ___.head()"
      ]
    },
    {
      "cell_type": "code",
      "execution_count": 118,
      "metadata": {
        "id": "wzIddcB6XjrC"
      },
      "outputs": [],
      "source": [
        "# inverse dataset yang sudah diencode ke kategori aslinya.\n",
        "# Lengkapi kode berikut jika ingin menerapkan kriteria ini (silakan hapus simbol pagar pada kode yang akan digunakan.)\n",
        "# for ___ in categorical_cols:\n",
        "#     ___ = encoders[col]\n",
        "#     df[col] = ___.inverse_transform(df_inverse[col].astype(int))\n",
        "# tampilkan dataset yang sudah di-inverse\n",
        "# ___.head()"
      ]
    },
    {
      "cell_type": "code",
      "execution_count": 119,
      "metadata": {
        "id": "omCabiXBTklU"
      },
      "outputs": [],
      "source": [
        "# Lakukan analisis deskriptif minimal mean, min dan max untuk fitur numerik dan mode untuk kategorikal seperti pada basic tetapi menggunakan data yang sudah diinverse.\n",
        "# pastikan output menghasilkan agregasi dan groupby bersamaan dengan mean, min, dan max kembali setelah melakukan inverse."
      ]
    },
    {
      "cell_type": "markdown",
      "metadata": {
        "id": "WcaT8sxVzLs6"
      },
      "source": [
        "## Menjelaskan karakteristik tiap cluster berdasarkan rentangnya setelah inverse.\n",
        "1. **Cluster 1: (___)**:\n",
        "  - **Rata-rata (mean) <Fitur>:** <Sebelum inverse> <Setelah inverse>\n",
        "  - **Analisis:** Cluster ini ..."
      ]
    },
    {
      "cell_type": "markdown",
      "metadata": {
        "id": "jSd6vZslzatv"
      },
      "source": [
        "(Opsional) Interpretasi Hasil Clustering [Advanced]\n",
        "\n",
        "**Biarkan kosong jika tidak menerapkan kriteria advanced**"
      ]
    },
    {
      "cell_type": "code",
      "execution_count": 120,
      "metadata": {
        "id": "4mGIyUZ2zRCP"
      },
      "outputs": [],
      "source": [
        "# Mengintegrasikan kembali data yang telah di-inverse dengan hasil cluster."
      ]
    },
    {
      "cell_type": "code",
      "execution_count": 121,
      "metadata": {
        "id": "BEASz_Q__jms"
      },
      "outputs": [],
      "source": [
        "# Simpan Data\n",
        "# ___.to_csv('data_clustering_inverse.csv', index=False)"
      ]
    },
    {
      "cell_type": "markdown",
      "metadata": {
        "id": "sWOK6TDTL0eH"
      },
      "source": [
        "End of Code."
      ]
    }
  ],
  "metadata": {
    "colab": {
      "provenance": []
    },
    "kernelspec": {
      "display_name": "venv",
      "language": "python",
      "name": "python3"
    },
    "language_info": {
      "codemirror_mode": {
        "name": "ipython",
        "version": 3
      },
      "file_extension": ".py",
      "mimetype": "text/x-python",
      "name": "python",
      "nbconvert_exporter": "python",
      "pygments_lexer": "ipython3",
      "version": "3.11.0"
    }
  },
  "nbformat": 4,
  "nbformat_minor": 0
}
